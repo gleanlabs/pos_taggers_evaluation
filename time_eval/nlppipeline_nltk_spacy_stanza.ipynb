{
 "cells": [
  {
   "cell_type": "code",
   "execution_count": null,
   "outputs": [],
   "source": [
    "from pyspark import SparkContext\n",
    "from pyspark.sql import SQLContext, DataFrame\n",
    "from pyspark.sql.types import *\n",
    "from pyspark.sql.functions import udf, col, regexp_replace, concat\n",
    "import  pyspark.sql.functions as F\n",
    "import spacy\n",
    "import stanza\n",
    "\n",
    "SparkContext.setSystemProperty(\"spark.sql.crossJoin.enabled\", \"true\")\n",
    "sc = SparkContext.getOrCreate()\n",
    "spark = SQLContext(sc)\n",
    "\n",
    "merged_se_cleaned = 'merged_cleaned_files_se_before_extraction-table' "
   ],
   "metadata": {
    "collapsed": false,
    "pycharm": {
     "name": "#%%\n"
    }
   }
  },
  {
   "cell_type": "code",
   "execution_count": null,
   "outputs": [],
   "source": [
    "# sc.addPyFile(\"gs://workbench.gleanlabs.net/emr_data/user=johanna/nlp_pipeline_new_remap.zip\")\n",
    "sc.addPyFile(\"gs://workbench.gleanlabs.net/emr_data/user=johanna/nlppipeline_stanza.zip\")"
   ],
   "metadata": {
    "collapsed": false,
    "pycharm": {
     "name": "#%%\n"
    }
   }
  },
  {
   "cell_type": "code",
   "execution_count": null,
   "outputs": [],
   "source": [
    "times_nltk = []"
   ],
   "metadata": {
    "collapsed": false,
    "pycharm": {
     "name": "#%%\n"
    }
   }
  },
  {
   "cell_type": "code",
   "execution_count": null,
   "outputs": [],
   "source": [
    "from lib.sparkmethods import stage1\n",
    "import time\n",
    "\n",
    "for N in [100,1000,5000,10000,50000]:\n",
    "    start = time.time()\n",
    "    df = spark.read.format('delta').load(\"gs://workbench.gleanlabs.net/emr_data/user=johanna/{}\".format(merged_se_cleaned)).limit(N)\n",
    "    df = df.repartition(1800, ['docID'])\n",
    "    dfKeyPhrases = stage1(df)\n",
    "    dfKeyPhrases.write.format('delta').save(\"gs://workbench.gleanlabs.net/emr_data/user=johanna/{}\".format('merged_se_extracted_kps_new_posts_{}_stanza-table'.format(N)))\n",
    "    end = time.time() - start\n",
    "    times_nltk.append(end)"
   ],
   "metadata": {
    "collapsed": false,
    "pycharm": {
     "name": "#%%\n"
    }
   }
  },
  {
   "cell_type": "code",
   "execution_count": null,
   "outputs": [],
   "source": [
    "times_nltk"
   ],
   "metadata": {
    "collapsed": false,
    "pycharm": {
     "name": "#%%\n"
    }
   }
  },
  {
   "cell_type": "code",
   "execution_count": null,
   "outputs": [],
   "source": [
    "import pandas as pd\n",
    "nltk = {'sentences': times_nltk}\n",
    "\n",
    "df_nltk = pd.DataFrame(nltk, index = [100,1000,5000,10000,50000])"
   ],
   "metadata": {
    "collapsed": false,
    "pycharm": {
     "name": "#%%\n"
    }
   }
  },
  {
   "cell_type": "code",
   "execution_count": null,
   "outputs": [],
   "source": [
    "df_nltk"
   ],
   "metadata": {
    "collapsed": false,
    "pycharm": {
     "name": "#%%\n"
    }
   }
  },
  {
   "cell_type": "code",
   "execution_count": null,
   "outputs": [],
   "source": [
    "df_nltk = pd.to_csv('stanza_time.csv')"
   ],
   "metadata": {
    "collapsed": false,
    "pycharm": {
     "name": "#%%\n"
    }
   }
  }
 ],
 "metadata": {
  "kernelspec": {
   "display_name": "PySpark3.7",
   "language": "python",
   "name": "pyspark3.7"
  },
  "language_info": {
   "codemirror_mode": {
    "name": "ipython",
    "version": 3
   },
   "file_extension": ".py",
   "mimetype": "text/x-python",
   "name": "python",
   "nbconvert_exporter": "python",
   "pygments_lexer": "ipython3",
   "version": "3.7.7"
  }
 },
 "nbformat": 4,
 "nbformat_minor": 4
}